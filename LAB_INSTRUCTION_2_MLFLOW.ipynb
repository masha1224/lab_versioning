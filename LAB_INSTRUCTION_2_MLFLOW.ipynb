{
 "cells": [
  {
   "cell_type": "markdown",
   "id": "4e334946-88c6-4a53-b68b-bc6a7812f446",
   "metadata": {},
   "source": [
    "# Laboratory 9 instruction part 2 - MLflow\n",
    "\n",
    "In machine learning development, one of the most challenging aspects is maintaining reproducibility. This issue is particularly relevant to the experimental phase, when a lot of small, but influential code changes are constantly introduced.\n",
    "\n",
    "After extensive experimentation with different model architectures, hyperparameters, and preprocessing techniques, researchers often find themselves unable to recreate their best-performing models because critical configuration details were not properly recorded."
   ]
  },
  {
   "cell_type": "markdown",
   "id": "5635a486-ad7f-4d1e-b77a-60bb611ead52",
   "metadata": {},
   "source": [
    "## MLflow\n",
    "\n",
    "[MLflow is an open-source platform](https://mlflow.org/) that addresses this challenge by providing systematic experiment tracking throughout the machine learning lifecycle. It automatically captures configurations, metrics, and artifacts from each model training run, transforming ad-hoc model development into a structured, reproducible process. In this notebook, we will learn how to use MLflow to properly track experiments for both traditional machine learning and deep learning workflows."
   ]
  },
  {
   "cell_type": "markdown",
   "id": "50e1cc47-687c-43df-994b-8898e0cf0d35",
   "metadata": {},
   "source": [
    "### Learning objectives\n",
    "\n",
    "1. **Implement automated experiment tracking** using MLflow autologging capabilities with scikit-learn, enabling automatic capture of model parameters and metrics without writing additional tracking code.\n",
    "\n",
    "2. **Configure manual logging strategies** for PyTorch experiments, implementing custom tracking for metrics, parameters, and artifacts throughout the training process.\n",
    "\n",
    "3. **Analyze and compare experimental results** using MLflow tracking UI and programmatic APIs to identify optimal model configurations and understand performance patterns."
   ]
  },
  {
   "cell_type": "markdown",
   "id": "f9b60082-6c05-4281-bd04-b116f50fde0d",
   "metadata": {},
   "source": [
    "### Laboratory plan\n",
    "\n",
    "1. **MLflow tracking server** configuration and deployment for experiment management\n",
    "2. **Automatic logging mechanisms** for scikit-learn experiments\n",
    "3. **Manual logging implementation** for PyTorch deep learning workflows\n",
    "4. **Hyperparameter optimization exercise** - systematic hyperparameter exploration\n",
    "5. **Best practices** for experiment organization, versioning, and cross-team reproducibility"
   ]
  },
  {
   "cell_type": "markdown",
   "id": "f74a40d6-c3a1-4a0c-901d-37f623083a0f",
   "metadata": {
    "jp-MarkdownHeadingCollapsed": true
   },
   "source": [
    "## 1. MLflow Tracking server configuration"
   ]
  },
  {
   "cell_type": "markdown",
   "id": "52cf0383-726a-4078-96f4-a4079221ef34",
   "metadata": {},
   "source": [
    "[MLflow Tracking](https://mlflow.org/docs/latest/tracking/) is the main component of MLflow, responsible for capturing, storing, and presenting metrics, logs, and other tracking data. MLflow is based on a client-server architecture, where the central MLflow server can serve potentially whole teams of data scientists. You can also simply run it as a local server from the commandline, as we will now."
   ]
  },
  {
   "cell_type": "markdown",
   "id": "e8b54de5-897b-42fb-a8c5-88f68e829920",
   "metadata": {},
   "source": [
    "1. Create a directory for MLflow artifacts storage:\n",
    "```bash\n",
    "mkdir mlflow-artifacts\n",
    "```\n",
    "\n",
    "2. Start the MLflow tracking server:\n",
    "```bash\n",
    "mlflow server \\\n",
    "  --backend-store-uri sqlite:///mlflow.db \\\n",
    "  --default-artifact-root ./mlflow-artifacts \\\n",
    "  --host 0.0.0.0 \\\n",
    "  --port 5000\n",
    "```\n",
    "Important: Keep this terminal window open. The MLflow server will continue running and be accessible at http://localhost:5000"
   ]
  },
  {
   "cell_type": "markdown",
   "id": "cc86b089-02d6-4d15-aacf-3a7c59fe976c",
   "metadata": {},
   "source": [
    "To verify if the server runs properly, let's connect to git:"
   ]
  },
  {
   "cell_type": "code",
   "execution_count": 1,
   "id": "72ee89df-7d88-418b-b0ea-955314a8027a",
   "metadata": {
    "execution": {
     "iopub.execute_input": "2025-06-06T21:37:55.194204Z",
     "iopub.status.busy": "2025-06-06T21:37:55.193968Z",
     "iopub.status.idle": "2025-06-06T21:37:56.127429Z",
     "shell.execute_reply": "2025-06-06T21:37:56.127112Z",
     "shell.execute_reply.started": "2025-06-06T21:37:55.194189Z"
    }
   },
   "outputs": [
    {
     "name": "stdout",
     "output_type": "stream",
     "text": [
      "Connected to MLflow at: http://localhost:5000\n"
     ]
    }
   ],
   "source": [
    "import mlflow\n",
    "import mlflow.sklearn\n",
    "\n",
    "import warnings\n",
    "\n",
    "warnings.filterwarnings(\"ignore\")\n",
    "\n",
    "mlflow.set_tracking_uri(\"http://localhost:5000\")\n",
    "print(f\"Connected to MLflow at: {mlflow.get_tracking_uri()}\")"
   ]
  },
  {
   "cell_type": "markdown",
   "id": "404081bf-fd43-4b10-adf4-dd50cdfdfddb",
   "metadata": {},
   "source": [
    "Setup complete! You now have the MLflow server running as a separate process, and `mlflow` library in this Jupyter Notebook is connected to it. Just note that we had to use the proper host and port - if you want to connect to a remote server, modify the tracking URI appropriately."
   ]
  },
  {
   "cell_type": "markdown",
   "id": "c42e3dde-f410-4550-be8d-38b68a54c380",
   "metadata": {
    "jp-MarkdownHeadingCollapsed": true
   },
   "source": [
    "## 2. Automatic logging with scikit-learn"
   ]
  },
  {
   "cell_type": "markdown",
   "id": "c5eba059-863c-4d0c-b560-e3b988904a92",
   "metadata": {},
   "source": [
    "### 2.1 Dataset preparation\n",
    "\n",
    "In this section, we'll use the Ames Housing dataset to demonstrate MLflow's autologging capabilities with scikit-learn. Since we have already prepared the 2006-2008 data using DVC, we can use our preprocessed dataset here. As we have temporal data, the best way to evaluate our model is time (chronological) split, where the newest data is used for testing. We will assume that we have the data for years 2006 and 2007, and evaluate using data from 2008."
   ]
  },
  {
   "cell_type": "code",
   "execution_count": 2,
   "id": "4c9238db-6356-4efd-87c4-0c7fab9ba43b",
   "metadata": {
    "execution": {
     "iopub.execute_input": "2025-06-06T21:37:56.128059Z",
     "iopub.status.busy": "2025-06-06T21:37:56.127866Z",
     "iopub.status.idle": "2025-06-06T21:37:56.420304Z",
     "shell.execute_reply": "2025-06-06T21:37:56.419932Z",
     "shell.execute_reply.started": "2025-06-06T21:37:56.128048Z"
    }
   },
   "outputs": [],
   "source": [
    "import numpy as np\n",
    "import pandas as pd\n",
    "\n",
    "from feature_engine.encoding import RareLabelEncoder\n",
    "from sklearn.compose import ColumnTransformer\n",
    "from sklearn.impute import SimpleImputer\n",
    "from sklearn.model_selection import train_test_split, cross_val_score\n",
    "from sklearn.pipeline import Pipeline\n",
    "from sklearn.preprocessing import MinMaxScaler, OneHotEncoder"
   ]
  },
  {
   "cell_type": "code",
   "execution_count": 3,
   "id": "c0bd3c46-9319-41e2-8725-4d84a8e88d53",
   "metadata": {
    "execution": {
     "iopub.execute_input": "2025-06-06T21:38:45.166153Z",
     "iopub.status.busy": "2025-06-06T21:38:45.166011Z",
     "iopub.status.idle": "2025-06-06T21:38:45.176444Z",
     "shell.execute_reply": "2025-06-06T21:38:45.176034Z",
     "shell.execute_reply.started": "2025-06-06T21:38:45.166143Z"
    }
   },
   "outputs": [],
   "source": [
    "df = pd.read_parquet(\"data/ames_data_2006_2008.parquet\")\n",
    "\n",
    "df = df.sort_values(by=[\"YrSold\"])\n",
    "\n",
    "df_train = df[df[\"YrSold\"] < 2008]\n",
    "df_test = df[df[\"YrSold\"] == 2008]\n",
    "\n",
    "y_train = df_train.pop(\"SalePrice\")\n",
    "y_test = df_test.pop(\"SalePrice\")\n",
    "\n",
    "categorical_features = df_train.select_dtypes(include=\"object\").columns\n",
    "numerical_features = df_train.select_dtypes(exclude=\"object\").columns"
   ]
  },
  {
   "cell_type": "code",
   "execution_count": 4,
   "id": "5919ec29-187c-4e6d-85b9-19ea3ed31bf4",
   "metadata": {
    "execution": {
     "iopub.execute_input": "2025-06-06T21:38:46.277580Z",
     "iopub.status.busy": "2025-06-06T21:38:46.277439Z",
     "iopub.status.idle": "2025-06-06T21:38:46.339952Z",
     "shell.execute_reply": "2025-06-06T21:38:46.339637Z",
     "shell.execute_reply.started": "2025-06-06T21:38:46.277571Z"
    },
    "scrolled": true
   },
   "outputs": [],
   "source": [
    "median_imputer = SimpleImputer(strategy=\"median\")\n",
    "min_max_scaler = MinMaxScaler()\n",
    "rare_encoder = RareLabelEncoder(tol=0.01, n_categories=0)\n",
    "one_hot_encoder = OneHotEncoder(\n",
    "    drop=\"first\", sparse_output=False, handle_unknown=\"ignore\"\n",
    ")\n",
    "\n",
    "num_pipeline = Pipeline(\n",
    "    [(\"median_imputer\", median_imputer), (\"min_max_scaler\", min_max_scaler)]\n",
    ")\n",
    "\n",
    "cat_pipeline = Pipeline(\n",
    "    [(\"rare_encoder\", rare_encoder), (\"one_hot_encoder\", one_hot_encoder)]\n",
    ")\n",
    "\n",
    "column_transformer = ColumnTransformer(\n",
    "    [\n",
    "        (\"num_pipeline\", num_pipeline, numerical_features),\n",
    "        (\"cat_pipeline\", cat_pipeline, categorical_features),\n",
    "    ],\n",
    "    verbose_feature_names_out=False,\n",
    ")\n",
    "column_transformer.fit(df_train)\n",
    "\n",
    "X_train = column_transformer.transform(df_train)\n",
    "X_test = column_transformer.transform(df_test)"
   ]
  },
  {
   "cell_type": "code",
   "execution_count": 5,
   "id": "f32f3cf3-c57e-4747-a641-58cd5b3efc35",
   "metadata": {
    "execution": {
     "iopub.execute_input": "2025-06-06T21:38:55.877195Z",
     "iopub.status.busy": "2025-06-06T21:38:55.877004Z",
     "iopub.status.idle": "2025-06-06T21:38:55.879815Z",
     "shell.execute_reply": "2025-06-06T21:38:55.879444Z",
     "shell.execute_reply.started": "2025-06-06T21:38:55.877186Z"
    }
   },
   "outputs": [
    {
     "name": "stdout",
     "output_type": "stream",
     "text": [
      "Training samples: 1312\n",
      "Test samples: 621\n",
      "Number of features: 181\n"
     ]
    }
   ],
   "source": [
    "print(f\"Training samples: {X_train.shape[0]}\")\n",
    "print(f\"Test samples: {X_test.shape[0]}\")\n",
    "print(f\"Number of features: {X_train.shape[1]}\")"
   ]
  },
  {
   "cell_type": "markdown",
   "id": "30b0c8a1-8c4b-4e7c-bc94-a17b66c35496",
   "metadata": {},
   "source": [
    "### 2.2 Training with MLflow autologging"
   ]
  },
  {
   "cell_type": "markdown",
   "id": "39e15737-282d-4b0a-9930-6bfdbf506aa0",
   "metadata": {},
   "source": [
    "Autologging is a powerful built-in capability of MLflow, enabling fully automated and near-zero code integration of MLflow with many popular frameworks. In particular, it works really well with scikit-learn, thanks to its highly unified API. Let's try this out - we will enable autologging, and then train a buch of different models."
   ]
  },
  {
   "cell_type": "code",
   "execution_count": 6,
   "id": "07209ba8-d906-47ec-b95f-bc49ea002c74",
   "metadata": {
    "execution": {
     "iopub.execute_input": "2025-06-06T21:38:59.733373Z",
     "iopub.status.busy": "2025-06-06T21:38:59.733191Z",
     "iopub.status.idle": "2025-06-06T21:39:01.267771Z",
     "shell.execute_reply": "2025-06-06T21:39:01.267496Z",
     "shell.execute_reply.started": "2025-06-06T21:38:59.733362Z"
    }
   },
   "outputs": [
    {
     "name": "stderr",
     "output_type": "stream",
     "text": [
      "2025/06/07 15:09:47 WARNING mlflow.utils.autologging_utils: MLflow sklearn autologging is known to be compatible with 0.24.1 <= scikit-learn <= 1.6.1, but the installed version is 1.7.0. If you encounter errors during autologging, try upgrading / downgrading scikit-learn to a compatible version, or try upgrading MLflow.\n",
      "2025/06/07 15:12:53 INFO mlflow.tracking.fluent: Experiment with name 'ames-housing-autolog' does not exist. Creating a new experiment.\n"
     ]
    },
    {
     "data": {
      "text/plain": [
       "<Experiment: artifact_location=('/mnt/c/Users/msuhrob/OneDrive - '\n",
       " 'Sylvamo/Desktop/Studia/Zajecia/Semestr2/ID/lab_6_files/lab_versioning/mlflow-artifacts/1'), creation_time=1749301973606, experiment_id='1', last_update_time=1749301973606, lifecycle_stage='active', name='ames-housing-autolog', tags={}>"
      ]
     },
     "execution_count": 6,
     "metadata": {},
     "output_type": "execute_result"
    }
   ],
   "source": [
    "mlflow.sklearn.autolog(\n",
    "    log_input_examples=True, log_model_signatures=True, log_models=False, silent=False\n",
    ")\n",
    "\n",
    "mlflow.set_experiment(\"ames-housing-autolog\")"
   ]
  },
  {
   "cell_type": "code",
   "execution_count": 7,
   "id": "fab8fe1e-28d4-473e-acfd-32ddefea106e",
   "metadata": {
    "execution": {
     "iopub.execute_input": "2025-06-06T21:40:56.850983Z",
     "iopub.status.busy": "2025-06-06T21:40:56.850798Z",
     "iopub.status.idle": "2025-06-06T21:40:56.853451Z",
     "shell.execute_reply": "2025-06-06T21:40:56.853196Z",
     "shell.execute_reply.started": "2025-06-06T21:40:56.850973Z"
    }
   },
   "outputs": [],
   "source": [
    "from sklearn.ensemble import RandomForestRegressor, GradientBoostingRegressor\n",
    "from sklearn.linear_model import Ridge\n",
    "from sklearn.tree import DecisionTreeRegressor\n",
    "from sklearn.neighbors import KNeighborsRegressor\n",
    "\n",
    "\n",
    "models = [\n",
    "    (\"Ridge Regression\", Ridge()),\n",
    "    (\"Decision Tree\", DecisionTreeRegressor(max_depth=10, random_state=42)),\n",
    "    (\"K-Nearest Neighbors\", KNeighborsRegressor(n_neighbors=10)),\n",
    "    (\"Random Forest\", RandomForestRegressor(n_estimators=100, random_state=42)),\n",
    "    (\"Gradient Boosting\", GradientBoostingRegressor(n_estimators=100, random_state=42)),\n",
    "]"
   ]
  },
  {
   "cell_type": "code",
   "execution_count": 8,
   "id": "c80ebf7f-af99-461a-b35f-e2d7e6676645",
   "metadata": {
    "execution": {
     "iopub.execute_input": "2025-06-06T21:45:09.278011Z",
     "iopub.status.busy": "2025-06-06T21:45:09.277677Z",
     "iopub.status.idle": "2025-06-06T21:45:09.281976Z",
     "shell.execute_reply": "2025-06-06T21:45:09.281592Z",
     "shell.execute_reply.started": "2025-06-06T21:45:09.277991Z"
    }
   },
   "outputs": [],
   "source": [
    "from sklearn.metrics import root_mean_squared_error, mean_absolute_error, r2_score\n",
    "\n",
    "\n",
    "def fit_sklearn_models_with_cv(models, X_train, X_test, y_train, y_test):\n",
    "    results = {}\n",
    "\n",
    "    for model_name, model in models:\n",
    "        # start MLflow run - a unit grouping logs from different model runs\n",
    "        # everything within this context manager will get logged as a run\n",
    "        with mlflow.start_run(run_name=model_name):\n",
    "            model.fit(X_train, y_train)\n",
    "\n",
    "            y_pred = model.predict(X_test)\n",
    "\n",
    "            rmse = root_mean_squared_error(y_test, y_pred)\n",
    "            mae = mean_absolute_error(y_test, y_pred)\n",
    "            r2 = r2_score(y_test, y_pred)\n",
    "\n",
    "            cv_scores = cross_val_score(model, X_train, y_train, cv=5, scoring=\"r2\")\n",
    "            cv_mean = cv_scores.mean()\n",
    "            cv_std = cv_scores.std()\n",
    "            \n",
    "            # log additional custom metrics, in addition to autologging\n",
    "            mlflow.log_metric(\"cv_r2_mean\", cv_mean)\n",
    "            mlflow.log_metric(\"cv_r2_std\", cv_std)\n",
    "\n",
    "            results[model_name] = {\n",
    "                \"rmse\": rmse,\n",
    "                \"mae\": mae,\n",
    "                \"r2\": r2,\n",
    "                \"cv_r2_mean\": cv_mean,\n",
    "            }\n",
    "\n",
    "            print(f\"\\n{model_name}:\")\n",
    "            print(f\"  RMSE: {rmse:.2f}\")\n",
    "            print(f\"  MAE: {mae:.2f}\")\n",
    "            print(f\"  R^2: {r2:.3f}\")\n",
    "            print(f\"  CV R^2 (mean ± std): {cv_mean:.3f} ± {cv_std:.3f}\")\n"
   ]
  },
  {
   "cell_type": "code",
   "execution_count": 9,
   "id": "808bb766-f598-4cbd-a46f-3bad82d84f4d",
   "metadata": {
    "execution": {
     "iopub.execute_input": "2025-06-06T21:41:56.396591Z",
     "iopub.status.busy": "2025-06-06T21:41:56.396422Z",
     "iopub.status.idle": "2025-06-06T21:42:08.549780Z",
     "shell.execute_reply": "2025-06-06T21:42:08.549488Z",
     "shell.execute_reply.started": "2025-06-06T21:41:56.396582Z"
    },
    "scrolled": true
   },
   "outputs": [
    {
     "name": "stderr",
     "output_type": "stream",
     "text": [
      "2025/06/07 15:13:02 WARNING mlflow.sklearn: Failed to log training dataset information to MLflow Tracking. Reason: 'Series' object has no attribute 'flatten'\n",
      "2025/06/07 15:13:03 WARNING mlflow.sklearn: Failed to log training dataset information to MLflow Tracking. Reason: 'Series' object has no attribute 'flatten'\n",
      "2025/06/07 15:13:04 WARNING mlflow.sklearn: Failed to log training dataset information to MLflow Tracking. Reason: 'Series' object has no attribute 'flatten'\n",
      "2025/06/07 15:13:04 WARNING mlflow.sklearn: Failed to log training dataset information to MLflow Tracking. Reason: 'Series' object has no attribute 'flatten'\n",
      "2025/06/07 15:13:04 WARNING mlflow.sklearn: Failed to log training dataset information to MLflow Tracking. Reason: 'Series' object has no attribute 'flatten'\n",
      "2025/06/07 15:13:05 WARNING mlflow.sklearn: Failed to log training dataset information to MLflow Tracking. Reason: 'Series' object has no attribute 'flatten'\n"
     ]
    },
    {
     "name": "stdout",
     "output_type": "stream",
     "text": [
      "\n",
      "Ridge Regression:\n",
      "  RMSE: 23450.39\n",
      "  MAE: 16430.79\n",
      "  R^2: 0.904\n",
      "  CV R^2 (mean ± std): 0.880 ± 0.041\n",
      "🏃 View run Ridge Regression at: http://localhost:5000/#/experiments/1/runs/dfc4644b28b944ce98f2b749d9120476\n",
      "🧪 View experiment at: http://localhost:5000/#/experiments/1\n"
     ]
    },
    {
     "name": "stderr",
     "output_type": "stream",
     "text": [
      "2025/06/07 15:13:05 WARNING mlflow.sklearn: Failed to log training dataset information to MLflow Tracking. Reason: 'Series' object has no attribute 'flatten'\n",
      "2025/06/07 15:13:06 WARNING mlflow.sklearn: Failed to log training dataset information to MLflow Tracking. Reason: 'Series' object has no attribute 'flatten'\n",
      "2025/06/07 15:13:06 WARNING mlflow.sklearn: Failed to log training dataset information to MLflow Tracking. Reason: 'Series' object has no attribute 'flatten'\n",
      "2025/06/07 15:13:06 WARNING mlflow.sklearn: Failed to log training dataset information to MLflow Tracking. Reason: 'Series' object has no attribute 'flatten'\n",
      "2025/06/07 15:13:07 WARNING mlflow.sklearn: Failed to log training dataset information to MLflow Tracking. Reason: 'Series' object has no attribute 'flatten'\n",
      "2025/06/07 15:13:07 WARNING mlflow.sklearn: Failed to log training dataset information to MLflow Tracking. Reason: 'Series' object has no attribute 'flatten'\n"
     ]
    },
    {
     "name": "stdout",
     "output_type": "stream",
     "text": [
      "\n",
      "Decision Tree:\n",
      "  RMSE: 36860.51\n",
      "  MAE: 23270.66\n",
      "  R^2: 0.762\n",
      "  CV R^2 (mean ± std): 0.740 ± 0.107\n",
      "🏃 View run Decision Tree at: http://localhost:5000/#/experiments/1/runs/8783fc555f0a4194b11d250d60915044\n",
      "🧪 View experiment at: http://localhost:5000/#/experiments/1\n"
     ]
    },
    {
     "name": "stderr",
     "output_type": "stream",
     "text": [
      "2025/06/07 15:13:08 WARNING mlflow.sklearn: Failed to log training dataset information to MLflow Tracking. Reason: 'Series' object has no attribute 'flatten'\n",
      "2025/06/07 15:13:11 WARNING mlflow.sklearn: Failed to log training dataset information to MLflow Tracking. Reason: 'Series' object has no attribute 'flatten'\n",
      "2025/06/07 15:13:11 WARNING mlflow.sklearn: Failed to log training dataset information to MLflow Tracking. Reason: 'Series' object has no attribute 'flatten'\n",
      "2025/06/07 15:13:11 WARNING mlflow.sklearn: Failed to log training dataset information to MLflow Tracking. Reason: 'Series' object has no attribute 'flatten'\n",
      "2025/06/07 15:13:12 WARNING mlflow.sklearn: Failed to log training dataset information to MLflow Tracking. Reason: 'Series' object has no attribute 'flatten'\n",
      "2025/06/07 15:13:12 WARNING mlflow.sklearn: Failed to log training dataset information to MLflow Tracking. Reason: 'Series' object has no attribute 'flatten'\n",
      "2025/06/07 15:13:13 WARNING mlflow.sklearn: Failed to log training dataset information to MLflow Tracking. Reason: 'Series' object has no attribute 'flatten'\n"
     ]
    },
    {
     "name": "stdout",
     "output_type": "stream",
     "text": [
      "\n",
      "K-Nearest Neighbors:\n",
      "  RMSE: 38324.60\n",
      "  MAE: 26033.27\n",
      "  R^2: 0.743\n",
      "  CV R^2 (mean ± std): 0.655 ± 0.047\n",
      "🏃 View run K-Nearest Neighbors at: http://localhost:5000/#/experiments/1/runs/795618d695904e0e999248fe5fad60d2\n",
      "🧪 View experiment at: http://localhost:5000/#/experiments/1\n"
     ]
    },
    {
     "name": "stderr",
     "output_type": "stream",
     "text": [
      "2025/06/07 15:13:18 WARNING mlflow.sklearn: Failed to log training dataset information to MLflow Tracking. Reason: 'Series' object has no attribute 'flatten'\n",
      "2025/06/07 15:13:22 WARNING mlflow.sklearn: Failed to log training dataset information to MLflow Tracking. Reason: 'Series' object has no attribute 'flatten'\n",
      "2025/06/07 15:13:25 WARNING mlflow.sklearn: Failed to log training dataset information to MLflow Tracking. Reason: 'Series' object has no attribute 'flatten'\n",
      "2025/06/07 15:13:29 WARNING mlflow.sklearn: Failed to log training dataset information to MLflow Tracking. Reason: 'Series' object has no attribute 'flatten'\n",
      "2025/06/07 15:13:36 WARNING mlflow.sklearn: Failed to log training dataset information to MLflow Tracking. Reason: 'Series' object has no attribute 'flatten'\n"
     ]
    },
    {
     "name": "stdout",
     "output_type": "stream",
     "text": [
      "\n",
      "Random Forest:\n",
      "  RMSE: 25941.98\n",
      "  MAE: 15508.99\n",
      "  R^2: 0.882\n",
      "  CV R^2 (mean ± std): 0.874 ± 0.031\n",
      "🏃 View run Random Forest at: http://localhost:5000/#/experiments/1/runs/30e077c478de41e8a7a1f38ffe4467fc\n",
      "🧪 View experiment at: http://localhost:5000/#/experiments/1\n"
     ]
    },
    {
     "name": "stderr",
     "output_type": "stream",
     "text": [
      "2025/06/07 15:13:40 WARNING mlflow.sklearn: Failed to log training dataset information to MLflow Tracking. Reason: 'Series' object has no attribute 'flatten'\n",
      "2025/06/07 15:13:43 WARNING mlflow.sklearn: Failed to log training dataset information to MLflow Tracking. Reason: 'Series' object has no attribute 'flatten'\n",
      "2025/06/07 15:13:44 WARNING mlflow.sklearn: Failed to log training dataset information to MLflow Tracking. Reason: 'Series' object has no attribute 'flatten'\n",
      "2025/06/07 15:13:46 WARNING mlflow.sklearn: Failed to log training dataset information to MLflow Tracking. Reason: 'Series' object has no attribute 'flatten'\n",
      "2025/06/07 15:13:47 WARNING mlflow.sklearn: Failed to log training dataset information to MLflow Tracking. Reason: 'Series' object has no attribute 'flatten'\n",
      "2025/06/07 15:13:49 WARNING mlflow.sklearn: Failed to log training dataset information to MLflow Tracking. Reason: 'Series' object has no attribute 'flatten'\n"
     ]
    },
    {
     "name": "stdout",
     "output_type": "stream",
     "text": [
      "\n",
      "Gradient Boosting:\n",
      "  RMSE: 21586.72\n",
      "  MAE: 13825.62\n",
      "  R^2: 0.918\n",
      "  CV R^2 (mean ± std): 0.893 ± 0.024\n",
      "🏃 View run Gradient Boosting at: http://localhost:5000/#/experiments/1/runs/26d1f909fa3e421e8f923ae345e8a9c7\n",
      "🧪 View experiment at: http://localhost:5000/#/experiments/1\n"
     ]
    }
   ],
   "source": [
    "fit_sklearn_models_with_cv(models, X_train, X_test, y_train, y_test)"
   ]
  },
  {
   "cell_type": "markdown",
   "id": "cbdc3a2c-f5e8-4f96-935a-8975814b4306",
   "metadata": {},
   "source": [
    "Open the MLflow dashboard at http://localhost:5000/ and go to the Experiments tab. On the left, you have the experiment name, and when you select it, the list of all experiments will show up. Click through the interface and familiarize yourself with the most important elements:\n",
    "\n",
    "1. What columns can be selected\n",
    "2. Pick a particular run and check what values are logged automatically\n",
    "3. Select columns to compare a given metric between runs, e.g. MAE\n",
    "4. Sort algorithms by the selected metric to pick the best one"
   ]
  },
  {
   "attachments": {
    "image.png": {
     "image/png": "[encoded data removed]"
    }
   },
   "cell_type": "markdown",
   "id": "629dd07b",
   "metadata": {},
   "source": [
    "![image.png](attachment:image.png)"
   ]
  },
  {
   "cell_type": "markdown",
   "id": "93ffef97-b1be-4506-8720-c90e027c8172",
   "metadata": {},
   "source": [
    "### Exercise 1"
   ]
  },
  {
   "cell_type": "markdown",
   "id": "3e97c74e-7cb4-4bfe-9f32-7421dc6c03e7",
   "metadata": {},
   "source": [
    "We have trained 5 different models. The results of all of them can now be compared in MLflow. Since we obtained quite satisfactory results, our imaginary client would like to be sure that we do our best and wants us to compare many more combinations.\n",
    "\n",
    "Your task is to run 5 more experiments with different parameters and models from scikit-learn. You can use any [supervised learning methods from scikit-learn](https://scikit-learn.org/stable/supervised_learning.html). Find some other models or parameters to tune our current models with and run the experiments again. Use the function `fit_sklearn_models_with_cv()` created above, or you can write your own if you want.\n",
    "\n",
    "Did you manage to beat the previous approaches?"
   ]
  },
  {
   "cell_type": "code",
   "execution_count": null,
   "id": "7e7d3010",
   "metadata": {},
   "outputs": [],
   "source": []
  },
  {
   "cell_type": "code",
   "execution_count": 17,
   "id": "ef6261dd-3a22-4513-b524-2f40843919f4",
   "metadata": {},
   "outputs": [
    {
     "name": "stdout",
     "output_type": "stream",
     "text": [
      "\n",
      "Ridge_alpha_10:\n",
      "  RMSE: 23781.14\n",
      "  MAE: 16602.76\n",
      "  R^2: 0.901\n",
      "  CV R^2 (mean ± std): 0.874 ± 0.026\n",
      "🏃 View run Ridge_alpha_10 at: http://localhost:5000/#/experiments/2/runs/7753df87764d43e990cb23d838a3c951\n",
      "🧪 View experiment at: http://localhost:5000/#/experiments/2\n",
      "\n",
      "Lasso_alpha_0.1:\n",
      "  RMSE: 24077.53\n",
      "  MAE: 16759.25\n",
      "  R^2: 0.899\n",
      "  CV R^2 (mean ± std): 0.855 ± 0.060\n",
      "🏃 View run Lasso_alpha_0.1 at: http://localhost:5000/#/experiments/2/runs/7771f2502fc247c5ac06104f613bd28e\n",
      "🧪 View experiment at: http://localhost:5000/#/experiments/2\n",
      "\n",
      "ExtraTrees_100:\n",
      "  RMSE: 23448.54\n",
      "  MAE: 14918.67\n",
      "  R^2: 0.904\n",
      "  CV R^2 (mean ± std): 0.875 ± 0.034\n",
      "🏃 View run ExtraTrees_100 at: http://localhost:5000/#/experiments/2/runs/50960d16378b4e98a50ae59551b76ef9\n",
      "🧪 View experiment at: http://localhost:5000/#/experiments/2\n",
      "\n",
      "GradientBoosting_lr_0.05:\n",
      "  RMSE: 21616.58\n",
      "  MAE: 13806.00\n",
      "  R^2: 0.918\n",
      "  CV R^2 (mean ± std): 0.898 ± 0.023\n",
      "🏃 View run GradientBoosting_lr_0.05 at: http://localhost:5000/#/experiments/2/runs/2ef4d6aeeb20406bb4468a6c120994ca\n",
      "🧪 View experiment at: http://localhost:5000/#/experiments/2\n",
      "\n",
      "KNN_k_10:\n",
      "  RMSE: 38324.60\n",
      "  MAE: 26033.27\n",
      "  R^2: 0.743\n",
      "  CV R^2 (mean ± std): 0.655 ± 0.047\n",
      "🏃 View run KNN_k_10 at: http://localhost:5000/#/experiments/2/runs/345588ed4dcf4894be81974a17220ba7\n",
      "🧪 View experiment at: http://localhost:5000/#/experiments/2\n"
     ]
    }
   ],
   "source": [
    "import mlflow\n",
    "import mlflow.sklearn\n",
    "from sklearn.linear_model import Ridge, Lasso\n",
    "from sklearn.ensemble import GradientBoostingRegressor, ExtraTreesRegressor\n",
    "from sklearn.neighbors import KNeighborsRegressor\n",
    "from sklearn.model_selection import cross_val_score\n",
    "\n",
    "# Modele + ich nazwy\n",
    "models = [\n",
    "    (\"Ridge_alpha_10\", Ridge(alpha=10.0)),\n",
    "    (\"Lasso_alpha_0.1\", Lasso(alpha=0.1)),\n",
    "    (\"ExtraTrees_100\", ExtraTreesRegressor(n_estimators=100, random_state=42)),\n",
    "    (\"GradientBoosting_lr_0.05\", GradientBoostingRegressor(learning_rate=0.05, n_estimators=200, random_state=42)),\n",
    "    (\"KNN_k_10\", KNeighborsRegressor(n_neighbors=10)),\n",
    "]\n",
    "\n",
    "# Uruchom eksperymenty\n",
    "fit_sklearn_models_with_cv(models, X_train, X_test, y_train, y_test)\n"
   ]
  },
  {
   "cell_type": "markdown",
   "id": "bb882787-8a22-45a5-93ac-c232f467303a",
   "metadata": {},
   "source": [
    "## 3. Manual logging with PyTorch"
   ]
  },
  {
   "cell_type": "markdown",
   "id": "f5b51341-4f9b-437e-b17c-d882759cffea",
   "metadata": {},
   "source": [
    "In this section, we'll implement manual logging for PyTorch models. While scikit-learn has autologging, PyTorch requires manual tracking - giving us full control over what and when to log. MLflow supports autologging for [PyTorch Lightning](https://lightning.ai/docs/pytorch/stable/), but many people prefer or often need low-level control of pure PyTorch. Thus, we will focus on this approach, which also will teach us more about powerful MLflow capabilities.\n",
    "\n",
    "Note that we need to turn off scikit-learn autologging! Since we are using a Jupyter Notebook, MLflow uses the previously configured autologging unless explicitly turned off."
   ]
  },
  {
   "cell_type": "code",
   "execution_count": 10,
   "id": "b08b265d-b3b0-47d8-a207-7e0f6611de64",
   "metadata": {
    "execution": {
     "iopub.execute_input": "2025-06-06T21:53:12.117920Z",
     "iopub.status.busy": "2025-06-06T21:53:12.117730Z",
     "iopub.status.idle": "2025-06-06T21:53:12.151246Z",
     "shell.execute_reply": "2025-06-06T21:53:12.150913Z",
     "shell.execute_reply.started": "2025-06-06T21:53:12.117909Z"
    }
   },
   "outputs": [
    {
     "name": "stderr",
     "output_type": "stream",
     "text": [
      "2025/06/07 15:13:51 INFO mlflow.tracking.fluent: Experiment with name 'pytorch-housing-manual' does not exist. Creating a new experiment.\n"
     ]
    },
    {
     "data": {
      "text/plain": [
       "<Experiment: artifact_location=('/mnt/c/Users/msuhrob/OneDrive - '\n",
       " 'Sylvamo/Desktop/Studia/Zajecia/Semestr2/ID/lab_6_files/lab_versioning/mlflow-artifacts/2'), creation_time=1749302031094, experiment_id='2', last_update_time=1749302031094, lifecycle_stage='active', name='pytorch-housing-manual', tags={}>"
      ]
     },
     "execution_count": 10,
     "metadata": {},
     "output_type": "execute_result"
    }
   ],
   "source": [
    "import numpy as np\n",
    "import torch\n",
    "import torch.nn as nn\n",
    "import torch.optim as optim\n",
    "from torch.utils.data import DataLoader, TensorDataset\n",
    "from sklearn.model_selection import KFold\n",
    "\n",
    "# disable sklearn autologging!\n",
    "mlflow.sklearn.autolog(disable=True)\n",
    "\n",
    "mlflow.set_experiment(\"pytorch-housing-manual\")"
   ]
  },
  {
   "cell_type": "markdown",
   "id": "10b43a24-f469-4520-9634-8e77535d1f79",
   "metadata": {},
   "source": [
    "### 3.1 Targets transformation"
   ]
  },
  {
   "cell_type": "markdown",
   "id": "11a6a152-dc89-4c3e-92ab-d988324c5fc3",
   "metadata": {},
   "source": [
    "Before training the neural network, we will transform the training target, in order to stabilize the training. To see why, let's plot the house prices:"
   ]
  },
  {
   "cell_type": "code",
   "execution_count": 11,
   "id": "d891bdee-750b-4c89-8153-4ea77dc1e720",
   "metadata": {
    "execution": {
     "iopub.execute_input": "2025-06-06T22:26:29.163558Z",
     "iopub.status.busy": "2025-06-06T22:26:29.163415Z",
     "iopub.status.idle": "2025-06-06T22:26:29.717211Z",
     "shell.execute_reply": "2025-06-06T22:26:29.716889Z",
     "shell.execute_reply.started": "2025-06-06T22:26:29.163547Z"
    }
   },
   "outputs": [
    {
     "data": {
      "text/plain": [
       "<Axes: ylabel='Frequency'>"
      ]
     },
     "execution_count": 11,
     "metadata": {},
     "output_type": "execute_result"
    },
    {
     "data": {
      "image/png": "[encoded data removed]",
      "text/plain": [
       "<Figure size 640x480 with 1 Axes>"
      ]
     },
     "metadata": {},
     "output_type": "display_data"
    }
   ],
   "source": [
    "y_train.plot.hist()"
   ]
  },
  {
   "cell_type": "markdown",
   "id": "5fb5e9b2-b596-4d43-9a70-a9ebd9228bcf",
   "metadata": {},
   "source": [
    "Training on such targets is possible, but very large target values easily risk overflow, particularly when a loss function like mean squared error is used. We will use the log-transform to transform this distribution, as it's near-exponential, so it should bring it closer to normal, and also greatly reduce the values range.\n",
    "\n",
    "Of course, we will need to transform the network predictions back again to evaluate them!"
   ]
  },
  {
   "cell_type": "code",
   "execution_count": 12,
   "id": "a2040911-8f01-4c83-9668-1b2340f03a21",
   "metadata": {
    "execution": {
     "iopub.execute_input": "2025-06-06T22:30:07.596248Z",
     "iopub.status.busy": "2025-06-06T22:30:07.595854Z",
     "iopub.status.idle": "2025-06-06T22:30:07.653569Z",
     "shell.execute_reply": "2025-06-06T22:30:07.653318Z",
     "shell.execute_reply.started": "2025-06-06T22:30:07.596228Z"
    }
   },
   "outputs": [
    {
     "data": {
      "text/plain": [
       "<Axes: ylabel='Frequency'>"
      ]
     },
     "execution_count": 12,
     "metadata": {},
     "output_type": "execute_result"
    },
    {
     "data": {
      "image/png": "[encoded data removed]",
      "text/plain": [
       "<Figure size 640x480 with 1 Axes>"
      ]
     },
     "metadata": {},
     "output_type": "display_data"
    }
   ],
   "source": [
    "y_train_log = np.log1p(y_train)\n",
    "\n",
    "pd.Series(y_train_log).plot.hist()"
   ]
  },
  {
   "cell_type": "markdown",
   "id": "9fe63d74-b06f-4270-adad-d216bfbfa0dd",
   "metadata": {},
   "source": [
    "### 3.2 Define and train the model"
   ]
  },
  {
   "cell_type": "markdown",
   "id": "6ed10560-7d86-44a2-9849-56abe78a8c04",
   "metadata": {},
   "source": [
    "Since we have tabular data, we will use a simple 2-layer multilayer perceptron (MLP)."
   ]
  },
  {
   "cell_type": "code",
   "execution_count": 13,
   "id": "9a115323-d4b5-4137-977d-8cc0579a5ef0",
   "metadata": {
    "execution": {
     "iopub.execute_input": "2025-06-06T22:36:34.505302Z",
     "iopub.status.busy": "2025-06-06T22:36:34.505068Z",
     "iopub.status.idle": "2025-06-06T22:36:34.508008Z",
     "shell.execute_reply": "2025-06-06T22:36:34.507755Z",
     "shell.execute_reply.started": "2025-06-06T22:36:34.505284Z"
    }
   },
   "outputs": [],
   "source": [
    "class HousePriceNet(nn.Module):\n",
    "    def __init__(self, input_dim, hidden_dim=128, dropout_rate=0.2):\n",
    "        super(HousePriceNet, self).__init__()\n",
    "        self.fc1 = nn.Linear(input_dim, hidden_dim)\n",
    "        self.relu = nn.ReLU()\n",
    "        self.dropout = nn.Dropout(dropout_rate)\n",
    "        self.fc2 = nn.Linear(hidden_dim, 1)\n",
    "\n",
    "    def forward(self, x):\n",
    "        x = self.fc1(x)\n",
    "        x = self.relu(x)\n",
    "        x = self.dropout(x)\n",
    "        x = self.fc2(x)\n",
    "        return x\n"
   ]
  },
  {
   "cell_type": "markdown",
   "id": "08cdb980-c4b6-462e-8fe2-27023ee97083",
   "metadata": {},
   "source": [
    "For training, we will check both the 5-fold CV performance, and the traditional train-test split. Cross-validation will give us an additional, robust performance estimation, as well as standard deviation, which is useful for comparing performances of different models. After all, if the difference between models would be within one standard deviation, it wouldn't really be meaningful."
   ]
  },
  {
   "cell_type": "code",
   "execution_count": 14,
   "id": "76d6531a-3019-4f7e-94e5-238ee39af849",
   "metadata": {
    "execution": {
     "iopub.execute_input": "2025-06-06T22:56:46.553437Z",
     "iopub.status.busy": "2025-06-06T22:56:46.553260Z",
     "iopub.status.idle": "2025-06-06T22:56:46.563728Z",
     "shell.execute_reply": "2025-06-06T22:56:46.563425Z",
     "shell.execute_reply.started": "2025-06-06T22:56:46.553426Z"
    }
   },
   "outputs": [],
   "source": [
    "import torch.nn as nn\n",
    "\n",
    "\n",
    "class PyTorchTrainer:\n",
    "    def __init__(\n",
    "        self, model_class: type[nn.Module], config: dict\n",
    "    ):\n",
    "        self.model_class = model_class\n",
    "        self.config = config\n",
    "\n",
    "    def create_model(self, input_dim: int) -> nn.Module:\n",
    "        return self.model_class(\n",
    "            input_dim=input_dim,\n",
    "            hidden_dim=self.config[\"hidden_units\"],\n",
    "            dropout_rate=self.config[\"dropout\"],\n",
    "        )\n",
    "\n",
    "    def create_data_loader(\n",
    "        self, X: torch.Tensor, y: torch.Tensor, shuffle: bool = True\n",
    "    ) -> DataLoader:\n",
    "        dataset = TensorDataset(X, y)\n",
    "        return DataLoader(\n",
    "            dataset, batch_size=self.config[\"batch_size\"], shuffle=shuffle\n",
    "        )\n",
    "\n",
    "    def train_epoch(\n",
    "        self,\n",
    "        model: nn.Module,\n",
    "        train_loader: DataLoader,\n",
    "        criterion: nn.Module,\n",
    "        optimizer: optim.Optimizer,\n",
    "    ) -> float:\n",
    "        model.train()\n",
    "        epoch_loss = 0.0\n",
    "        batch_count = 0\n",
    "\n",
    "        for batch_X, batch_y in train_loader:\n",
    "            optimizer.zero_grad()\n",
    "            outputs = model(batch_X)\n",
    "            loss = criterion(outputs, batch_y)\n",
    "            loss.backward()\n",
    "            optimizer.step()\n",
    "\n",
    "            epoch_loss += loss.item()\n",
    "            batch_count += 1\n",
    "\n",
    "        return epoch_loss / batch_count\n",
    "\n",
    "    def train_model(\n",
    "        self,\n",
    "        model: nn.Module,\n",
    "        train_loader: DataLoader,\n",
    "        epochs: int,\n",
    "        metric_prefix: str = \"\",\n",
    "    ) -> None:\n",
    "        criterion = nn.MSELoss()\n",
    "        optimizer = optim.Adam(model.parameters(), lr=self.config[\"learning_rate\"])\n",
    "\n",
    "        for epoch in range(epochs):\n",
    "            avg_mse = self.train_epoch(model, train_loader, criterion, optimizer)\n",
    "\n",
    "            if epoch % self.config[\"log_interval\"] == 0:\n",
    "                metric_name = (\n",
    "                    f\"{metric_prefix}train_mse\" if metric_prefix else \"train_mse\"\n",
    "                )\n",
    "                # manually log metric value, with a given name and step value\n",
    "                mlflow.log_metric(metric_name, avg_mse, step=epoch)\n",
    "\n",
    "    @torch.no_grad()\n",
    "    def evaluate_model(\n",
    "        self,\n",
    "        model: nn.Module,\n",
    "        X: torch.Tensor,\n",
    "        y_test: torch.Tensor,\n",
    "        log_prefix: str = \"\",\n",
    "    ) -> dict[str, float]:\n",
    "        model.eval()\n",
    "        \n",
    "        y_pred_norm = model(X)\n",
    "\n",
    "        # revert the logarithm with exponent\n",
    "        y_pred = np.expm1(y_pred_norm.numpy())\n",
    "        y_test = y_test.numpy()\n",
    "\n",
    "        rmse = root_mean_squared_error(y_test.ravel(), y_pred.ravel())\n",
    "        mae = mean_absolute_error(y_test.ravel(), y_pred.ravel())\n",
    "        r2 = r2_score(y_test.ravel(), y_pred.ravel())\n",
    "\n",
    "        if log_prefix:\n",
    "            # manually log metrics that we want\n",
    "            mlflow.log_metric(f\"{log_prefix}_rmse\", rmse)\n",
    "            mlflow.log_metric(f\"{log_prefix}_mae\", mae)\n",
    "            mlflow.log_metric(f\"{log_prefix}_r2\", r2)\n",
    "\n",
    "        return {\"rmse\": rmse, \"mae\": mae, \"r2\": r2}\n",
    "\n",
    "    def run_cross_validation(\n",
    "        self, X_train: torch.Tensor, y_train: torch.Tensor, n_splits: int = 5\n",
    "    ) -> tuple[float, float, list[float]]:\n",
    "        kf = KFold(n_splits=n_splits, shuffle=True, random_state=42)\n",
    "        cv_scores = []\n",
    "\n",
    "        for fold, (train_idx, val_idx) in enumerate(kf.split(X_train)):\n",
    "            print(f\"\\nTraining Fold {fold + 1}/{n_splits}...\")\n",
    "\n",
    "            X_fold_train = X_train[train_idx]\n",
    "            y_fold_train = y_train[train_idx]\n",
    "            X_fold_val = X_train[val_idx]\n",
    "            y_fold_val = y_train[val_idx]\n",
    "\n",
    "            fold_model = self.create_model(X_train.shape[1])\n",
    "            fold_loader = self.create_data_loader(X_fold_train, y_fold_train)\n",
    "\n",
    "            self.train_model(\n",
    "                fold_model,\n",
    "                fold_loader,\n",
    "                self.config[\"epochs\"],\n",
    "                metric_prefix=f\"fold_{fold + 1}_\",\n",
    "            )\n",
    "\n",
    "            # transform validation data with exponent back to original unit\n",
    "            y_fold_val = np.expm1(y_fold_val)\n",
    "            \n",
    "            val_metrics = self.evaluate_model(\n",
    "                fold_model, X_fold_val, y_fold_val, log_prefix=f\"fold_{fold + 1}_val\"\n",
    "            )\n",
    "\n",
    "            cv_scores.append(val_metrics[\"r2\"])\n",
    "            print(\n",
    "                f\"  Fold {fold + 1} \"\n",
    "                f\"Validation - RMSE: {val_metrics['rmse']:.2f}, \"\n",
    "                f\"MAE: {val_metrics['mae']:.2f} \"\n",
    "                f\"R^2: {val_metrics['r2']:.3f}\"\n",
    "            )\n",
    "\n",
    "        return np.mean(cv_scores), np.std(cv_scores), cv_scores\n",
    "\n",
    "    def fit(\n",
    "        self,\n",
    "        X_train: pd.DataFrame | np.ndarray,\n",
    "        y_train: pd.Series | np.ndarray,\n",
    "        X_test: pd.DataFrame | np.ndarray,\n",
    "        y_test: pd.Series | np.ndarray,\n",
    "    ) -> dict:\n",
    "        X_train, X_test, y_train, y_test = self._prepare_tensors(\n",
    "            X_train, X_test, y_train, y_test\n",
    "        )\n",
    "\n",
    "        with mlflow.start_run(run_name=self.config[\"name\"]):\n",
    "            mlflow.log_params(self.config)\n",
    "\n",
    "            print(f\"Starting 5-fold cross-validation for {self.config['name']}...\")\n",
    "            cv_mean, cv_std, cv_scores = self.run_cross_validation(X_train, y_train)\n",
    "\n",
    "            mlflow.log_metric(\"cv_r2_mean\", cv_mean)\n",
    "            mlflow.log_metric(\"cv_r2_std\", cv_std)\n",
    "\n",
    "            print(\n",
    "                f\"\\nCross-validation complete. Mean R^2: {cv_mean:.3f} (+/- {cv_std:.3f})\"\n",
    "            )\n",
    "            print(\"\\nTraining final model on all training data...\")\n",
    "\n",
    "            final_model = self.create_model(X_train.shape[1])\n",
    "            final_loader = self.create_data_loader(X_train, y_train)\n",
    "\n",
    "            self.train_model(\n",
    "                final_model,\n",
    "                final_loader,\n",
    "                self.config[\"epochs\"],\n",
    "                metric_prefix=\"final_model_\",\n",
    "            )\n",
    "\n",
    "            print(\"\\nEvaluating on test set...\")\n",
    "            test_metrics = self.evaluate_model(final_model, X_test, y_test)\n",
    "\n",
    "            mlflow.log_metric(\"test_rmse\", test_metrics[\"rmse\"])\n",
    "            mlflow.log_metric(\"test_mae\", test_metrics[\"mae\"])\n",
    "            mlflow.log_metric(\"test_r2\", test_metrics[\"r2\"])\n",
    "\n",
    "            self._print_results(test_metrics, cv_mean, cv_std)\n",
    "\n",
    "            return {\n",
    "                \"rmse\": test_metrics[\"rmse\"],\n",
    "                \"mae\": test_metrics[\"mae\"],\n",
    "                \"r2\": test_metrics[\"r2\"],\n",
    "                \"cv_r2_mean\": cv_mean,\n",
    "                \"cv_r2_std\": cv_std,\n",
    "                \"cv_scores\": cv_scores,\n",
    "            }\n",
    "\n",
    "    def _prepare_tensors(self, X_train, X_test, y_train, y_test) -> tuple:\n",
    "        y_train = np.array(y_train)\n",
    "        y_test = np.array(y_test)\n",
    "        \n",
    "        X_train_tensor = torch.FloatTensor(X_train)\n",
    "        y_train_tensor = torch.FloatTensor(y_train.reshape(-1, 1))\n",
    "        \n",
    "        X_test_tensor = torch.FloatTensor(X_test)\n",
    "        y_test_tensor = torch.FloatTensor(y_test.reshape(-1, 1))\n",
    "\n",
    "        print(f\"Training samples: {X_train_tensor.shape[0]}\")\n",
    "        print(f\"Input features: {X_train_tensor.shape[1]}\")\n",
    "        \n",
    "        return X_train_tensor, X_test_tensor, y_train_tensor, y_test_tensor\n",
    "    \n",
    "    def _print_results(\n",
    "        self, test_metrics: dict[str, float], cv_mean: float, cv_std: float\n",
    "    ) -> None:\n",
    "        print(f\"{'=' * 50}\\n\")\n",
    "        print(f\"  Mean R^2: {cv_mean:.3f} (+/- {cv_std:.3f})\")\n",
    "        print(\"\\nCross-Validation Performance:\")\n",
    "        print(f\"  R^2: {test_metrics['r2']:.3f}\")\n",
    "        print(f\"  RMSE: {test_metrics['rmse']:.2f}\")\n",
    "        print(f\"  MAE: {test_metrics['mae']:.2f}\")\n",
    "        print(\"Test Set Performance:\")\n",
    "        print(f\"{'=' * 50}\")\n",
    "        print(f\"FINAL RESULTS for {self.config['name']}:\")\n",
    "        print(f\"\\n{'=' * 50}\")\n"
   ]
  },
  {
   "cell_type": "markdown",
   "id": "2388014f-25b4-4662-a6bd-6c798f1334b3",
   "metadata": {},
   "source": [
    "Quite a bit of code there! So now let's train the model."
   ]
  },
  {
   "cell_type": "code",
   "execution_count": 15,
   "id": "946bd5bf-6e49-49be-88a7-26eedcc6d8cd",
   "metadata": {
    "execution": {
     "iopub.execute_input": "2025-06-06T22:56:47.055971Z",
     "iopub.status.busy": "2025-06-06T22:56:47.055779Z",
     "iopub.status.idle": "2025-06-06T22:56:47.058175Z",
     "shell.execute_reply": "2025-06-06T22:56:47.057807Z",
     "shell.execute_reply.started": "2025-06-06T22:56:47.055960Z"
    }
   },
   "outputs": [],
   "source": [
    "base_config = {\n",
    "    \"model_class\": HousePriceNet,\n",
    "    \"random_seed\": 42,\n",
    "    \"log_interval\": 5,\n",
    "    \"num_samples\": X_train.shape[0],\n",
    "    \"input_features\": X_train.shape[1],\n",
    "    \"k_folds\": 5,\n",
    "}\n",
    "\n",
    "config = {\n",
    "    \"name\": \"first_run\",\n",
    "    \"hidden_units\": 128,\n",
    "    \"dropout\": 0.1,\n",
    "    \"learning_rate\": 0.03,\n",
    "    \"epochs\": 150,\n",
    "    \"batch_size\": 32,\n",
    "}"
   ]
  },
  {
   "cell_type": "code",
   "execution_count": 16,
   "id": "223910e8-22e0-4b90-a2fe-00a64b4125c9",
   "metadata": {
    "execution": {
     "iopub.execute_input": "2025-06-06T22:56:47.417057Z",
     "iopub.status.busy": "2025-06-06T22:56:47.416860Z",
     "iopub.status.idle": "2025-06-06T22:57:31.364127Z",
     "shell.execute_reply": "2025-06-06T22:57:31.363789Z",
     "shell.execute_reply.started": "2025-06-06T22:56:47.417042Z"
    },
    "scrolled": true
   },
   "outputs": [
    {
     "name": "stdout",
     "output_type": "stream",
     "text": [
      "Training samples: 1312\n",
      "Input features: 181\n"
     ]
    },
    {
     "name": "stdout",
     "output_type": "stream",
     "text": [
      "Starting 5-fold cross-validation for first_run...\n",
      "\n",
      "Training Fold 1/5...\n",
      "  Fold 1 Validation - RMSE: 27976.95, MAE: 20418.89 R^2: 0.858\n",
      "\n",
      "Training Fold 2/5...\n",
      "  Fold 2 Validation - RMSE: 26521.84, MAE: 20065.26 R^2: 0.883\n",
      "\n",
      "Training Fold 3/5...\n",
      "  Fold 3 Validation - RMSE: 40155.27, MAE: 27534.02 R^2: 0.707\n",
      "\n",
      "Training Fold 4/5...\n",
      "  Fold 4 Validation - RMSE: 28941.55, MAE: 21511.67 R^2: 0.893\n",
      "\n",
      "Training Fold 5/5...\n",
      "  Fold 5 Validation - RMSE: 31540.50, MAE: 23979.54 R^2: 0.851\n",
      "\n",
      "Cross-validation complete. Mean R^2: 0.838 (+/- 0.068)\n",
      "\n",
      "Training final model on all training data...\n",
      "\n",
      "Evaluating on test set...\n",
      "==================================================\n",
      "\n",
      "  Mean R^2: 0.838 (+/- 0.068)\n",
      "\n",
      "Cross-Validation Performance:\n",
      "  R^2: 0.912\n",
      "  RMSE: 22399.36\n",
      "  MAE: 15945.00\n",
      "Test Set Performance:\n",
      "==================================================\n",
      "FINAL RESULTS for first_run:\n",
      "\n",
      "==================================================\n",
      "🏃 View run first_run at: http://localhost:5000/#/experiments/2/runs/c42cd0cf18c7458fbb59519c9cfe60c9\n",
      "🧪 View experiment at: http://localhost:5000/#/experiments/2\n"
     ]
    }
   ],
   "source": [
    "training_config = base_config | config\n",
    "\n",
    "trainer = PyTorchTrainer(training_config[\"model_class\"], training_config)\n",
    "results = trainer.fit(X_train, y_train_log, X_test, y_test)"
   ]
  },
  {
   "cell_type": "markdown",
   "id": "4e4aba34-309b-4a60-b9b8-81e313930c2e",
   "metadata": {},
   "source": [
    "Go to the MLflow dashboard and take a look at logged values. Focus particularly on the \"Model metrics\" tab, which for neural networks visualizes the progress of iterative training."
   ]
  },
  {
   "cell_type": "markdown",
   "id": "7e10dbd9-db33-4d01-8e8c-62b337790fb0",
   "metadata": {},
   "source": [
    "### 3.3 Hyperparameter optimization with MLflow"
   ]
  },
  {
   "cell_type": "markdown",
   "id": "5f29c2b4-b06f-45d6-be97-faf6a12bf48e",
   "metadata": {},
   "source": [
    "Now, we will use MLflow logging and visualization capabilities to help us tune hyperparameters of neural networks. This is one of the major applications of experiment tracking frameworks. As neural networks have many hyperparameters, with complex interactions, and training them many times is very computationally intensive, we want to use human judgment, based on plots and metrics, to guide our choices in further experiments.\n",
    "\n",
    "A quick recap on main hyperparameters of MLPs:\n",
    "\n",
    "1. **Learning rate:**\n",
    "   - typically 1e-5 to 1e-1\n",
    "   - too high: loss explodes, model diverges\n",
    "   - too low: slow convergence, might get stuck\n",
    "   - sweet spot: fast convergence to good minimum\n",
    "\n",
    "3. **Model size** - number of hidden units here:\n",
    "   - typically 32 to 512\n",
    "   - too few: underfitting, can't capture patterns\n",
    "   - too many: overfitting, slow training, diminishing returns\n",
    "   - consider: more features need more capacity\n",
    "\n",
    "5. **Dropout rate:**\n",
    "   - typically 0.0 to 0.5\n",
    "   - 0.0: no regularization, risk overfitting\n",
    "   - too high: underfitting, loses important information\n",
    "   - purpose: prevents over-reliance on specific neurons\n",
    "\n",
    "7. **Batch size:**\n",
    "   - typically 16 to 128\n",
    "   - small: noisy gradients, often better generalization, slower\n",
    "   - large: stable gradients, faster training, needs more memory, may overfit\n",
    "   - trade-off: speed vs generalization\n",
    "\n",
    "9. **Number of epochs:**\n",
    "   - too few: underfitting\n",
    "   - too many: overfitting\n",
    "   - optimal: when validation loss stops improving\n",
    "   - watch validation loss\n"
   ]
  },
  {
   "cell_type": "markdown",
   "id": "4cd8408a-af15-495f-9317-ebef6ba12607",
   "metadata": {},
   "source": [
    "### Exercise 2"
   ]
  },
  {
   "cell_type": "markdown",
   "id": "068c8473-e559-411b-9fe7-af11bb6a90b5",
   "metadata": {},
   "source": [
    "Your task is to:\n",
    "1. Run 10 experiments by modifying the hyperparameter configuration. Try to improve model performance, which is currently overfitted.\n",
    "2. Analyze results in MLflow UI.\n",
    "3. Comment on what changes impacted the model performance the most, and what changes disrupted the training process.\n",
    "4. Compare the results of our first scikit-learn configuration with the first PyTorch experiments. Do you see any overfitting in the first PyTorch experiment? Explain what signs of overfitting can indicate this situation.\n",
    "\n",
    "Example:\n",
    "\n",
    "```python\n",
    "\n",
    "base_config = {\n",
    "    # or any other your own architecture :) we definitely recommend to experiment by yourselves\n",
    "    \"model_class\": HousePriceNet,\n",
    "    \"random_seed\": 42,\n",
    "    \"log_interval\": 5,\n",
    "    \"input_features\": X_train.shape[1],\n",
    "    \"num_samples\": X_train.shape[0],\n",
    "    \"target_normalized\": True,\n",
    "    \"k_folds\": 5,\n",
    "}\n",
    "\n",
    "configs = {\n",
    "     {\n",
    "        \"name\": \"first_run_or_other_your_own_meaningful_name\",\n",
    "        \"hidden_units\": 128,\n",
    "         ...\n",
    "     },\n",
    "    {\n",
    "        \"name\": \"second_run_or...\",\n",
    "        \"hidden_units\": 128,\n",
    "        \"dropout\": 0.1,\n",
    "        \"learning_rate\": 0.03,\n",
    "        \"epochs\": 150,\n",
    "        \"batch_size\": 32,    \n",
    "    }\n",
    "}\n",
    "\n",
    "for config in configs:\n",
    "    # in python we can in elegant way merge two dicts using \"|\" operator - finally...\n",
    "    # old merging method {**base_config, **config} - ugly :(\n",
    "    training_config = base_config | config \n",
    "    trainer = PyTorchTrainer(training_config[\"model_class\"], preprocessor, training_config)\n",
    "    results = trainer.fit(X_train, y_train, X_test, y_test)\n",
    "```\n",
    "\n",
    "or just manually and incrementally:\n",
    "\n",
    "```python\n",
    "new_config = {\n",
    "    \"name\": \"second_run_or...\",\n",
    "    \"hidden_units\": 128,\n",
    "    \"dropout\": 0.1,\n",
    "    \"learning_rate\": 0.03,\n",
    "    \"epochs\": 150,\n",
    "    \"batch_size\": 32,    \n",
    "}\n",
    "\n",
    "training_config = base_config | config \n",
    "trainer = PyTorchTrainer(training_config[\"model_class\"], preprocessor, training_config)\n",
    "results = trainer.fit(X_train, y_train, X_test, y_test)\n",
    "```"
   ]
  },
  {
   "cell_type": "markdown",
   "id": "4ae23a2e-aab6-40f4-9811-6b97a0f9a4d1",
   "metadata": {},
   "source": [
    "### Lab assessment\n",
    "\n",
    "Fill the code exercises in this Jupyter notebook, and send it with completed exercises, written comments in Markdown cells (particularly for questions in exercise 2), and screenshots of results in MLflow."
   ]
  },
  {
   "cell_type": "code",
   "execution_count": 18,
   "id": "e469a39e-2346-4a23-9562-602cecab93d9",
   "metadata": {},
   "outputs": [],
   "source": [
    "import torch\n",
    "import torch.nn as nn\n",
    "import torch.optim as optim\n",
    "from torch.utils.data import TensorDataset, DataLoader\n",
    "from sklearn.model_selection import KFold\n",
    "from sklearn.metrics import mean_absolute_error, r2_score, mean_squared_error\n",
    "import numpy as np\n",
    "import pandas as pd\n",
    "import mlflow\n",
    "\n",
    "# Root Mean Squared Error\n",
    "def root_mean_squared_error(y_true, y_pred):\n",
    "    return np.sqrt(mean_squared_error(y_true, y_pred))\n"
   ]
  },
  {
   "cell_type": "code",
   "execution_count": 19,
   "id": "cc860ae2",
   "metadata": {},
   "outputs": [],
   "source": [
    "class HousePriceNet(nn.Module):\n",
    "    def __init__(self, input_dim: int, hidden_dim: int, dropout_rate: float):\n",
    "        super().__init__()\n",
    "        self.model = nn.Sequential(\n",
    "            nn.Linear(input_dim, hidden_dim),\n",
    "            nn.ReLU(),\n",
    "            nn.Dropout(dropout_rate),\n",
    "            nn.Linear(hidden_dim, 1),\n",
    "        )\n",
    "\n",
    "    def forward(self, x):\n",
    "        return self.model(x)\n"
   ]
  },
  {
   "cell_type": "code",
   "execution_count": 20,
   "id": "688ddc27",
   "metadata": {},
   "outputs": [],
   "source": [
    "base_config = {\n",
    "    \"model_class\": HousePriceNet,\n",
    "    \"random_seed\": 42,\n",
    "    \"log_interval\": 10,\n",
    "    \"num_samples\": X_train.shape[0],\n",
    "    \"input_features\": X_train.shape[1],\n",
    "    \"k_folds\": 5,\n",
    "}\n",
    "\n",
    "# Define different hyperparameter sets for 10 experiments\n",
    "experiment_configs = [\n",
    "    {\"name\": \"run_01\", \"hidden_units\": 64, \"dropout\": 0.1, \"learning_rate\": 0.01, \"epochs\": 100, \"batch_size\": 32},\n",
    "    {\"name\": \"run_02\", \"hidden_units\": 128, \"dropout\": 0.2, \"learning_rate\": 0.01, \"epochs\": 150, \"batch_size\": 32},\n",
    "    {\"name\": \"run_03\", \"hidden_units\": 256, \"dropout\": 0.3, \"learning_rate\": 0.005, \"epochs\": 200, \"batch_size\": 64},\n",
    "    {\"name\": \"run_04\", \"hidden_units\": 128, \"dropout\": 0.4, \"learning_rate\": 0.01, \"epochs\": 200, \"batch_size\": 16},\n",
    "    {\"name\": \"run_05\", \"hidden_units\": 64, \"dropout\": 0.2, \"learning_rate\": 0.001, \"epochs\": 100, \"batch_size\": 64},\n",
    "    {\"name\": \"run_06\", \"hidden_units\": 256, \"dropout\": 0.1, \"learning_rate\": 0.005, \"epochs\": 150, \"batch_size\": 32},\n",
    "    {\"name\": \"run_07\", \"hidden_units\": 128, \"dropout\": 0.5, \"learning_rate\": 0.003, \"epochs\": 100, \"batch_size\": 32},\n",
    "    {\"name\": \"run_08\", \"hidden_units\": 64, \"dropout\": 0.3, \"learning_rate\": 0.01, \"epochs\": 200, \"batch_size\": 16},\n",
    "    {\"name\": \"run_09\", \"hidden_units\": 32, \"dropout\": 0.2, \"learning_rate\": 0.001, \"epochs\": 150, \"batch_size\": 32},\n",
    "    {\"name\": \"run_10\", \"hidden_units\": 128, \"dropout\": 0.0, \"learning_rate\": 0.01, \"epochs\": 100, \"batch_size\": 32},\n",
    "]\n"
   ]
  },
  {
   "cell_type": "code",
   "execution_count": 21,
   "id": "c64d7655",
   "metadata": {},
   "outputs": [
    {
     "name": "stdout",
     "output_type": "stream",
     "text": [
      "\n",
      "===== Starting experiment: run_01 =====\n",
      "Training samples: 1312\n",
      "Input features: 181\n",
      "Starting 5-fold cross-validation for run_01...\n",
      "\n",
      "Training Fold 1/5...\n",
      "  Fold 1 Validation - RMSE: 42681.82, MAE: 32454.81 R^2: 0.669\n",
      "\n",
      "Training Fold 2/5...\n",
      "  Fold 2 Validation - RMSE: 44102.56, MAE: 31031.60 R^2: 0.677\n",
      "\n",
      "Training Fold 3/5...\n",
      "  Fold 3 Validation - RMSE: 57559.50, MAE: 42736.54 R^2: 0.397\n",
      "\n",
      "Training Fold 4/5...\n",
      "  Fold 4 Validation - RMSE: 52046.94, MAE: 40179.72 R^2: 0.654\n",
      "\n",
      "Training Fold 5/5...\n",
      "  Fold 5 Validation - RMSE: 43549.02, MAE: 29945.04 R^2: 0.716\n",
      "\n",
      "Cross-validation complete. Mean R^2: 0.623 (+/- 0.115)\n",
      "\n",
      "Training final model on all training data...\n",
      "\n",
      "Evaluating on test set...\n",
      "==================================================\n",
      "\n",
      "  Mean R^2: 0.623 (+/- 0.115)\n",
      "\n",
      "Cross-Validation Performance:\n",
      "  R^2: 0.117\n",
      "  RMSE: 71018.86\n",
      "  MAE: 54498.95\n",
      "Test Set Performance:\n",
      "==================================================\n",
      "FINAL RESULTS for run_01:\n",
      "\n",
      "==================================================\n",
      "🏃 View run run_01 at: http://localhost:5000/#/experiments/2/runs/5037bc79d5184feda06bb125b246ec73\n",
      "🧪 View experiment at: http://localhost:5000/#/experiments/2\n",
      "\n",
      "===== Starting experiment: run_02 =====\n",
      "Training samples: 1312\n",
      "Input features: 181\n",
      "Starting 5-fold cross-validation for run_02...\n",
      "\n",
      "Training Fold 1/5...\n",
      "  Fold 1 Validation - RMSE: 34883.01, MAE: 26480.42 R^2: 0.779\n",
      "\n",
      "Training Fold 2/5...\n",
      "  Fold 2 Validation - RMSE: 33353.90, MAE: 24759.86 R^2: 0.815\n",
      "\n",
      "Training Fold 3/5...\n",
      "  Fold 3 Validation - RMSE: 49145.36, MAE: 31610.44 R^2: 0.561\n",
      "\n",
      "Training Fold 4/5...\n",
      "  Fold 4 Validation - RMSE: 37212.52, MAE: 28319.46 R^2: 0.823\n",
      "\n",
      "Training Fold 5/5...\n",
      "  Fold 5 Validation - RMSE: 33189.05, MAE: 23310.45 R^2: 0.835\n",
      "\n",
      "Cross-validation complete. Mean R^2: 0.763 (+/- 0.103)\n",
      "\n",
      "Training final model on all training data...\n",
      "\n",
      "Evaluating on test set...\n",
      "==================================================\n",
      "\n",
      "  Mean R^2: 0.763 (+/- 0.103)\n",
      "\n",
      "Cross-Validation Performance:\n",
      "  R^2: 0.814\n",
      "  RMSE: 32591.65\n",
      "  MAE: 22955.53\n",
      "Test Set Performance:\n",
      "==================================================\n",
      "FINAL RESULTS for run_02:\n",
      "\n",
      "==================================================\n",
      "🏃 View run run_02 at: http://localhost:5000/#/experiments/2/runs/5c4829f06dd244c5ad54b423495eede6\n",
      "🧪 View experiment at: http://localhost:5000/#/experiments/2\n",
      "\n",
      "===== Starting experiment: run_03 =====\n",
      "Training samples: 1312\n",
      "Input features: 181\n",
      "Starting 5-fold cross-validation for run_03...\n",
      "\n",
      "Training Fold 1/5...\n",
      "  Fold 1 Validation - RMSE: 40595.44, MAE: 30903.86 R^2: 0.701\n",
      "\n",
      "Training Fold 2/5...\n",
      "  Fold 2 Validation - RMSE: 60789.09, MAE: 43435.29 R^2: 0.386\n",
      "\n",
      "Training Fold 3/5...\n",
      "  Fold 3 Validation - RMSE: 107010.92, MAE: 62745.23 R^2: -1.083\n",
      "\n",
      "Training Fold 4/5...\n",
      "  Fold 4 Validation - RMSE: 52880.02, MAE: 40073.71 R^2: 0.643\n",
      "\n",
      "Training Fold 5/5...\n",
      "  Fold 5 Validation - RMSE: 44034.16, MAE: 33204.13 R^2: 0.710\n",
      "\n",
      "Cross-validation complete. Mean R^2: 0.271 (+/- 0.687)\n",
      "\n",
      "Training final model on all training data...\n",
      "\n",
      "Evaluating on test set...\n",
      "==================================================\n",
      "\n",
      "  Mean R^2: 0.271 (+/- 0.687)\n",
      "\n",
      "Cross-Validation Performance:\n",
      "  R^2: 0.662\n",
      "  RMSE: 43920.24\n",
      "  MAE: 31715.70\n",
      "Test Set Performance:\n",
      "==================================================\n",
      "FINAL RESULTS for run_03:\n",
      "\n",
      "==================================================\n",
      "🏃 View run run_03 at: http://localhost:5000/#/experiments/2/runs/2374d36fbe2c4782b05c817307f7ee9d\n",
      "🧪 View experiment at: http://localhost:5000/#/experiments/2\n",
      "\n",
      "===== Starting experiment: run_04 =====\n",
      "Training samples: 1312\n",
      "Input features: 181\n",
      "Starting 5-fold cross-validation for run_04...\n",
      "\n",
      "Training Fold 1/5...\n",
      "  Fold 1 Validation - RMSE: 29265.17, MAE: 21240.81 R^2: 0.845\n",
      "\n",
      "Training Fold 2/5...\n",
      "  Fold 2 Validation - RMSE: 23446.79, MAE: 17063.41 R^2: 0.909\n",
      "\n",
      "Training Fold 3/5...\n",
      "  Fold 3 Validation - RMSE: 30701.13, MAE: 20224.23 R^2: 0.829\n",
      "\n",
      "Training Fold 4/5...\n",
      "  Fold 4 Validation - RMSE: 41719.66, MAE: 29054.26 R^2: 0.778\n",
      "\n",
      "Training Fold 5/5...\n",
      "  Fold 5 Validation - RMSE: 28074.01, MAE: 18602.29 R^2: 0.882\n",
      "\n",
      "Cross-validation complete. Mean R^2: 0.848 (+/- 0.045)\n",
      "\n",
      "Training final model on all training data...\n",
      "\n",
      "Evaluating on test set...\n",
      "==================================================\n",
      "\n",
      "  Mean R^2: 0.848 (+/- 0.045)\n",
      "\n",
      "Cross-Validation Performance:\n",
      "  R^2: 0.863\n",
      "  RMSE: 27944.08\n",
      "  MAE: 20133.20\n",
      "Test Set Performance:\n",
      "==================================================\n",
      "FINAL RESULTS for run_04:\n",
      "\n",
      "==================================================\n",
      "🏃 View run run_04 at: http://localhost:5000/#/experiments/2/runs/c4c8d79fea7946b2bc6138f19c258820\n",
      "🧪 View experiment at: http://localhost:5000/#/experiments/2\n",
      "\n",
      "===== Starting experiment: run_05 =====\n",
      "Training samples: 1312\n",
      "Input features: 181\n",
      "Starting 5-fold cross-validation for run_05...\n",
      "\n",
      "Training Fold 1/5...\n",
      "  Fold 1 Validation - RMSE: 55815.41, MAE: 41342.26 R^2: 0.435\n",
      "\n",
      "Training Fold 2/5...\n",
      "  Fold 2 Validation - RMSE: 57242.03, MAE: 43404.82 R^2: 0.455\n",
      "\n",
      "Training Fold 3/5...\n",
      "  Fold 3 Validation - RMSE: 78955.83, MAE: 45914.39 R^2: -0.134\n",
      "\n",
      "Training Fold 4/5...\n",
      "  Fold 4 Validation - RMSE: 60382.46, MAE: 41611.79 R^2: 0.534\n",
      "\n",
      "Training Fold 5/5...\n",
      "  Fold 5 Validation - RMSE: 63746.08, MAE: 45855.32 R^2: 0.392\n",
      "\n",
      "Cross-validation complete. Mean R^2: 0.336 (+/- 0.240)\n",
      "\n",
      "Training final model on all training data...\n",
      "\n",
      "Evaluating on test set...\n",
      "==================================================\n",
      "\n",
      "  Mean R^2: 0.336 (+/- 0.240)\n",
      "\n",
      "Cross-Validation Performance:\n",
      "  R^2: 0.394\n",
      "  RMSE: 58840.98\n",
      "  MAE: 45960.48\n",
      "Test Set Performance:\n",
      "==================================================\n",
      "FINAL RESULTS for run_05:\n",
      "\n",
      "==================================================\n",
      "🏃 View run run_05 at: http://localhost:5000/#/experiments/2/runs/ab37d33466124488b68c2ba22310c037\n",
      "🧪 View experiment at: http://localhost:5000/#/experiments/2\n",
      "\n",
      "===== Starting experiment: run_06 =====\n",
      "Training samples: 1312\n",
      "Input features: 181\n",
      "Starting 5-fold cross-validation for run_06...\n",
      "\n",
      "Training Fold 1/5...\n",
      "  Fold 1 Validation - RMSE: 64820.09, MAE: 54799.00 R^2: 0.237\n",
      "\n",
      "Training Fold 2/5...\n",
      "  Fold 2 Validation - RMSE: 51966.82, MAE: 39288.73 R^2: 0.551\n",
      "\n",
      "Training Fold 3/5...\n",
      "  Fold 3 Validation - RMSE: 83128.01, MAE: 35418.71 R^2: -0.257\n",
      "\n",
      "Training Fold 4/5...\n",
      "  Fold 4 Validation - RMSE: 47149.99, MAE: 34701.15 R^2: 0.716\n",
      "\n",
      "Training Fold 5/5...\n",
      "  Fold 5 Validation - RMSE: 77864.52, MAE: 57803.17 R^2: 0.093\n",
      "\n",
      "Cross-validation complete. Mean R^2: 0.268 (+/- 0.343)\n",
      "\n",
      "Training final model on all training data...\n",
      "\n",
      "Evaluating on test set...\n",
      "==================================================\n",
      "\n",
      "  Mean R^2: 0.268 (+/- 0.343)\n",
      "\n",
      "Cross-Validation Performance:\n",
      "  R^2: 0.318\n",
      "  RMSE: 62415.35\n",
      "  MAE: 49084.28\n",
      "Test Set Performance:\n",
      "==================================================\n",
      "FINAL RESULTS for run_06:\n",
      "\n",
      "==================================================\n",
      "🏃 View run run_06 at: http://localhost:5000/#/experiments/2/runs/437faddc29984bca9e4dc87841a13203\n",
      "🧪 View experiment at: http://localhost:5000/#/experiments/2\n",
      "\n",
      "===== Starting experiment: run_07 =====\n",
      "Training samples: 1312\n",
      "Input features: 181\n",
      "Starting 5-fold cross-validation for run_07...\n",
      "\n",
      "Training Fold 1/5...\n",
      "  Fold 1 Validation - RMSE: 50076.54, MAE: 36116.25 R^2: 0.545\n",
      "\n",
      "Training Fold 2/5...\n",
      "  Fold 2 Validation - RMSE: 65659.24, MAE: 53773.37 R^2: 0.283\n",
      "\n",
      "Training Fold 3/5...\n",
      "  Fold 3 Validation - RMSE: 47859.55, MAE: 35798.84 R^2: 0.583\n",
      "\n",
      "Training Fold 4/5...\n",
      "  Fold 4 Validation - RMSE: 48480.43, MAE: 35278.62 R^2: 0.700\n",
      "\n",
      "Training Fold 5/5...\n",
      "  Fold 5 Validation - RMSE: 105108.57, MAE: 89319.73 R^2: -0.652\n",
      "\n",
      "Cross-validation complete. Mean R^2: 0.292 (+/- 0.491)\n",
      "\n",
      "Training final model on all training data...\n",
      "\n",
      "Evaluating on test set...\n",
      "==================================================\n",
      "\n",
      "  Mean R^2: 0.292 (+/- 0.491)\n",
      "\n",
      "Cross-Validation Performance:\n",
      "  R^2: -1.387\n",
      "  RMSE: 116793.83\n",
      "  MAE: 90604.64\n",
      "Test Set Performance:\n",
      "==================================================\n",
      "FINAL RESULTS for run_07:\n",
      "\n",
      "==================================================\n",
      "🏃 View run run_07 at: http://localhost:5000/#/experiments/2/runs/b222bec6e0de4db587aa85a2c4ee0c74\n",
      "🧪 View experiment at: http://localhost:5000/#/experiments/2\n",
      "\n",
      "===== Starting experiment: run_08 =====\n",
      "Training samples: 1312\n",
      "Input features: 181\n",
      "Starting 5-fold cross-validation for run_08...\n",
      "\n",
      "Training Fold 1/5...\n",
      "  Fold 1 Validation - RMSE: 27104.56, MAE: 19012.75 R^2: 0.867\n",
      "\n",
      "Training Fold 2/5...\n",
      "  Fold 2 Validation - RMSE: 24590.73, MAE: 17725.58 R^2: 0.899\n",
      "\n",
      "Training Fold 3/5...\n",
      "  Fold 3 Validation - RMSE: 22726.56, MAE: 15437.36 R^2: 0.906\n",
      "\n",
      "Training Fold 4/5...\n",
      "  Fold 4 Validation - RMSE: 30059.00, MAE: 20376.74 R^2: 0.885\n",
      "\n",
      "Training Fold 5/5...\n",
      "  Fold 5 Validation - RMSE: 27173.94, MAE: 17740.56 R^2: 0.890\n",
      "\n",
      "Cross-validation complete. Mean R^2: 0.889 (+/- 0.014)\n",
      "\n",
      "Training final model on all training data...\n",
      "\n",
      "Evaluating on test set...\n",
      "==================================================\n",
      "\n",
      "  Mean R^2: 0.889 (+/- 0.014)\n",
      "\n",
      "Cross-Validation Performance:\n",
      "  R^2: 0.870\n",
      "  RMSE: 27212.87\n",
      "  MAE: 18319.00\n",
      "Test Set Performance:\n",
      "==================================================\n",
      "FINAL RESULTS for run_08:\n",
      "\n",
      "==================================================\n",
      "🏃 View run run_08 at: http://localhost:5000/#/experiments/2/runs/9d553916b47146faacc0e40217d9653e\n",
      "🧪 View experiment at: http://localhost:5000/#/experiments/2\n",
      "\n",
      "===== Starting experiment: run_09 =====\n",
      "Training samples: 1312\n",
      "Input features: 181\n",
      "Starting 5-fold cross-validation for run_09...\n",
      "\n",
      "Training Fold 1/5...\n",
      "  Fold 1 Validation - RMSE: 51913.90, MAE: 40175.98 R^2: 0.511\n",
      "\n",
      "Training Fold 2/5...\n",
      "  Fold 2 Validation - RMSE: 52203.24, MAE: 40161.10 R^2: 0.547\n",
      "\n",
      "Training Fold 3/5...\n",
      "  Fold 3 Validation - RMSE: 58943.33, MAE: 36146.44 R^2: 0.368\n",
      "\n",
      "Training Fold 4/5...\n",
      "  Fold 4 Validation - RMSE: 59596.62, MAE: 46316.93 R^2: 0.546\n",
      "\n",
      "Training Fold 5/5...\n",
      "  Fold 5 Validation - RMSE: 45950.46, MAE: 35477.45 R^2: 0.684\n",
      "\n",
      "Cross-validation complete. Mean R^2: 0.531 (+/- 0.101)\n",
      "\n",
      "Training final model on all training data...\n",
      "\n",
      "Evaluating on test set...\n",
      "==================================================\n",
      "\n",
      "  Mean R^2: 0.531 (+/- 0.101)\n",
      "\n",
      "Cross-Validation Performance:\n",
      "  R^2: 0.304\n",
      "  RMSE: 63043.02\n",
      "  MAE: 44761.44\n",
      "Test Set Performance:\n",
      "==================================================\n",
      "FINAL RESULTS for run_09:\n",
      "\n",
      "==================================================\n",
      "🏃 View run run_09 at: http://localhost:5000/#/experiments/2/runs/e355b6d995f4435e8a52fc1f1ffe1e45\n",
      "🧪 View experiment at: http://localhost:5000/#/experiments/2\n",
      "\n",
      "===== Starting experiment: run_10 =====\n",
      "Training samples: 1312\n",
      "Input features: 181\n",
      "Starting 5-fold cross-validation for run_10...\n",
      "\n",
      "Training Fold 1/5...\n",
      "  Fold 1 Validation - RMSE: 54634.28, MAE: 38302.79 R^2: 0.458\n",
      "\n",
      "Training Fold 2/5...\n",
      "  Fold 2 Validation - RMSE: 39004.27, MAE: 28839.67 R^2: 0.747\n",
      "\n",
      "Training Fold 3/5...\n",
      "  Fold 3 Validation - RMSE: 100012.66, MAE: 61390.54 R^2: -0.820\n",
      "\n",
      "Training Fold 4/5...\n",
      "  Fold 4 Validation - RMSE: 40112.86, MAE: 29913.83 R^2: 0.794\n",
      "\n",
      "Training Fold 5/5...\n",
      "  Fold 5 Validation - RMSE: 64257.72, MAE: 46181.90 R^2: 0.383\n",
      "\n",
      "Cross-validation complete. Mean R^2: 0.313 (+/- 0.588)\n",
      "\n",
      "Training final model on all training data...\n",
      "\n",
      "Evaluating on test set...\n",
      "==================================================\n",
      "\n",
      "  Mean R^2: 0.313 (+/- 0.588)\n",
      "\n",
      "Cross-Validation Performance:\n",
      "  R^2: 0.422\n",
      "  RMSE: 57483.39\n",
      "  MAE: 37331.73\n",
      "Test Set Performance:\n",
      "==================================================\n",
      "FINAL RESULTS for run_10:\n",
      "\n",
      "==================================================\n",
      "🏃 View run run_10 at: http://localhost:5000/#/experiments/2/runs/9ddb72e6aeba4c688ea1e1e02e4c5edd\n",
      "🧪 View experiment at: http://localhost:5000/#/experiments/2\n"
     ]
    }
   ],
   "source": [
    "all_results = []\n",
    "\n",
    "for config in experiment_configs:\n",
    "    training_config = base_config | config  # Merge base and current config\n",
    "    trainer = PyTorchTrainer(training_config[\"model_class\"], training_config)\n",
    "\n",
    "    print(f\"\\n===== Starting experiment: {config['name']} =====\")\n",
    "    results = trainer.fit(X_train, y_train_log, X_test, y_test)\n",
    "    results[\"name\"] = config[\"name\"]\n",
    "    all_results.append(results)\n"
   ]
  },
  {
   "cell_type": "code",
   "execution_count": 22,
   "id": "9f5fac8b",
   "metadata": {},
   "outputs": [
    {
     "name": "stdout",
     "output_type": "stream",
     "text": [
      "     name        r2           rmse           mae  cv_r2_mean  cv_r2_std\n",
      "0  run_01  0.117264   71018.858115  54498.945312    0.622705   0.114598\n",
      "1  run_02  0.814093   32591.652428  22955.531250    0.762629   0.102730\n",
      "2  run_03  0.662392   43920.237522  31715.697266    0.271203   0.687457\n",
      "3  run_04  0.863333   27944.084741  20133.199219    0.848283   0.045145\n",
      "4  run_05  0.394041   58840.978374  45960.476562    0.336436   0.239741\n",
      "5  run_06  0.318185   62415.354008  49084.277344    0.268130   0.342912\n",
      "6  run_07 -1.387389  116793.827782  90604.640625    0.291833   0.491141\n",
      "7  run_08  0.870392   27212.866369  18319.003906    0.889258   0.013556\n",
      "8  run_09  0.304403   63043.019217  44761.441406    0.531230   0.100970\n",
      "9  run_10  0.421680   57483.390853  37331.730469    0.312518   0.588074\n"
     ]
    }
   ],
   "source": [
    "# Print summary after all experiments\n",
    "df_results = pd.DataFrame(all_results)\n",
    "print(df_results[[\"name\", \"r2\", \"rmse\", \"mae\", \"cv_r2_mean\", \"cv_r2_std\"]])\n"
   ]
  },
  {
   "cell_type": "markdown",
   "id": "9c775d8b",
   "metadata": {},
   "source": [
    "### Hyperparameter Tuning Insights\n",
    "\n",
    "**What changes impacted model performance the most?**\n",
    "\n",
    "- **Dropout Rate:** Increasing dropout from 0.0/0.1 to 0.3–0.4 generally improved generalization and reduced overfitting, as seen by higher test R² and lower RMSE/MAE (e.g., `run_04`, `run_08`).\n",
    "- **Hidden Units:** Models with 128 hidden units performed best; too few (32, 64) or too many (256) units often led to underfitting or unstable training.\n",
    "- **Learning Rate:** A moderate learning rate (0.01) worked best. Too low (0.001) slowed convergence and sometimes underfit (`run_05`, `run_09`), while too high could destabilize training.\n",
    "- **Batch Size:** Smaller batch sizes (16, 32) helped generalization, but very small batches increased training time without clear gains.\n",
    "- **Epochs:** More epochs helped only when paired with regularization (dropout); otherwise, it led to overfitting.\n",
    "\n",
    "**What changes disrupted the training process?**\n",
    "\n",
    "- **High Dropout (0.5):** In `run_07`, excessive dropout caused the model to underfit, resulting in negative R² and very high RMSE/MAE.\n",
    "- **Too Many Hidden Units + High Dropout:** In `run_03` and `run_06`, large models with high dropout or low learning rate led to unstable or inconsistent cross-validation scores (high std).\n",
    "- **Low Learning Rate:** Runs with 0.001 learning rate (`run_05`, `run_09`) failed to converge well, resulting in poor test performance.\n",
    "\n",
    "---\n",
    "\n",
    "### Comparison: First scikit-learn vs. First PyTorch Experiment\n",
    "\n",
    "- **First scikit-learn (e.g., Ridge, DecisionTree, etc.):**\n",
    "    - Test R²: ~0.81–0.87 (best models)\n",
    "    - CV R² mean: ~0.76–0.89\n",
    "    - RMSE: ~27,000–32,000\n",
    "\n",
    "- **First PyTorch experiment (`run_01`):**\n",
    "    - Test R²: 0.12\n",
    "    - CV R² mean: 0.62\n",
    "    - RMSE: 71,019\n",
    "\n",
    "**Overfitting in PyTorch?**\n",
    "- Yes, the first PyTorch run shows signs of overfitting:\n",
    "    - **Large gap between CV R² (0.62) and test R² (0.12):** The model performs much better on validation folds than on the test set.\n",
    "    - **High test RMSE/MAE:** Indicates poor generalization.\n",
    "    - **Low/negative R²:** Some runs even have negative R², a clear sign of failed generalization.\n",
    "\n",
    "**Signs of overfitting:**\n",
    "- High training/CV scores but low test scores.\n",
    "- Large standard deviation in CV scores.\n",
    "- Test RMSE much higher than training/CV RMSE.\n",
    "\n",
    "**Summary:**  \n",
    "Best performance was achieved with moderate dropout (0.2–0.4), 128 hidden units, learning rate 0.01, and batch size 16–32. Overfitting was evident in the first PyTorch run, as shown by a large gap between validation and test metrics. Regularization (dropout) and careful tuning of learning rate and model size were key to improving generalization."
   ]
  }
 ],
 "metadata": {
  "kernelspec": {
   "display_name": ".venv",
   "language": "python",
   "name": "python3"
  },
  "language_info": {
   "codemirror_mode": {
    "name": "ipython",
    "version": 3
   },
   "file_extension": ".py",
   "mimetype": "text/x-python",
   "name": "python",
   "nbconvert_exporter": "python",
   "pygments_lexer": "ipython3",
   "version": "3.11.11"
  }
 },
 "nbformat": 4,
 "nbformat_minor": 5
}
